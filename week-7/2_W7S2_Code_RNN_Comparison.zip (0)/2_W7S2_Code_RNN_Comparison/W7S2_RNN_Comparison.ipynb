{
 "cells": [
  {
   "cell_type": "markdown",
   "metadata": {},
   "source": [
    "## Week 7 - Session 1: Compare RNNs"
   ]
  },
  {
   "cell_type": "markdown",
   "metadata": {
    "colab_type": "text",
    "id": "cppDAZSFgwCC"
   },
   "source": [
    "### Initialization"
   ]
  },
  {
   "cell_type": "code",
   "execution_count": 15,
   "metadata": {
    "colab": {},
    "colab_type": "code",
    "id": "DxG0hJq8v8wf"
   },
   "outputs": [],
   "source": [
    "# Initialize modules\n",
    "import os\n",
    "os.environ['TF_CPP_MIN_LOG_LEVEL'] = '2' \n",
    "\n",
    "import tensorflow as tf\n",
    "import matplotlib as mpl\n",
    "import matplotlib.pyplot as plt\n",
    "import numpy as np\n",
    "import os\n",
    "import pandas as pd\n",
    "np.random.seed(13)\n",
    "tf.random.set_seed(13)\n",
    "\n",
    "mpl.rcParams['figure.figsize'] = (8, 6)\n",
    "mpl.rcParams['axes.grid'] = False\n",
    "\n",
    "# Declare necessary functions\n",
    "def create_time_steps(length):\n",
    "  return list(range(-length, 0))\n",
    "\n",
    "def show_plot(plot_data, delta, title):\n",
    "  labels = ['History', 'True Future', 'Model Prediction']\n",
    "  marker = ['.-', 'rx', 'go']\n",
    "  time_steps = create_time_steps(plot_data[0].shape[0])\n",
    "  if delta:\n",
    "    future = delta\n",
    "  else:\n",
    "    future = 0\n",
    "\n",
    "  plt.title(title)\n",
    "  for i, x in enumerate(plot_data):\n",
    "    if i:\n",
    "      plt.plot(future, plot_data[i], marker[i], markersize=10,\n",
    "               label=labels[i])\n",
    "    else:\n",
    "      plt.plot(time_steps, plot_data[i].flatten(), marker[i], label=labels[i])\n",
    "  plt.legend()\n",
    "  plt.xlim([time_steps[0], (future+5)*2])\n",
    "  plt.xlabel('Time-Step')\n",
    "  return plt\n",
    "\n",
    "def baseline(history):\n",
    "  return np.mean(history)\n",
    "\n",
    "def multivariate_data(dataset, target, start_index, end_index, history_size,\n",
    "                      target_size, step, single_step=False):\n",
    "  data = []\n",
    "  labels = []\n",
    "\n",
    "  start_index = start_index + history_size\n",
    "  if end_index is None:\n",
    "    end_index = len(dataset) - target_size\n",
    "\n",
    "  for i in range(start_index, end_index):\n",
    "    indices = range(i-history_size, i, step)\n",
    "    data.append(dataset[indices])\n",
    "\n",
    "    if single_step:\n",
    "      labels.append(target[i+target_size])\n",
    "    else:\n",
    "      labels.append(target[i:i+target_size])\n",
    "\n",
    "  return np.array(data), np.array(labels)\n",
    "\n",
    "def plot_train_history(history, title):\n",
    "  loss = history.history['loss']\n",
    "  val_loss = history.history['val_loss']\n",
    "\n",
    "  epochs = range(len(loss))\n",
    "\n",
    "  plt.figure(figsize=(6,4))\n",
    "\n",
    "  plt.plot(epochs, loss, 'b', label='Training loss')\n",
    "  plt.plot(epochs, val_loss, 'r', label='Validation loss')\n",
    "  plt.title(title)\n",
    "  plt.legend()\n",
    "\n",
    "  plt.show()"
   ]
  },
  {
   "cell_type": "markdown",
   "metadata": {
    "colab_type": "text",
    "id": "FgaGctIMae26"
   },
   "source": [
    "### Part 1: Prepare the dataset"
   ]
  },
  {
   "cell_type": "code",
   "execution_count": 2,
   "metadata": {
    "colab": {
     "base_uri": "https://localhost:8080/",
     "height": 340
    },
    "colab_type": "code",
    "id": "T2hYSt4fza4j",
    "outputId": "3a47ec8a-d885-48df-bf16-fd5745bce64f"
   },
   "outputs": [
    {
     "data": {
      "text/html": [
       "<div>\n",
       "<style scoped>\n",
       "    .dataframe tbody tr th:only-of-type {\n",
       "        vertical-align: middle;\n",
       "    }\n",
       "\n",
       "    .dataframe tbody tr th {\n",
       "        vertical-align: top;\n",
       "    }\n",
       "\n",
       "    .dataframe thead th {\n",
       "        text-align: right;\n",
       "    }\n",
       "</style>\n",
       "<table border=\"1\" class=\"dataframe\">\n",
       "  <thead>\n",
       "    <tr style=\"text-align: right;\">\n",
       "      <th></th>\n",
       "      <th>Date Time</th>\n",
       "      <th>p (mbar)</th>\n",
       "      <th>T (degC)</th>\n",
       "      <th>Tpot (K)</th>\n",
       "      <th>Tdew (degC)</th>\n",
       "      <th>rh (%)</th>\n",
       "      <th>VPmax (mbar)</th>\n",
       "      <th>VPact (mbar)</th>\n",
       "      <th>VPdef (mbar)</th>\n",
       "      <th>sh (g/kg)</th>\n",
       "      <th>H2OC (mmol/mol)</th>\n",
       "      <th>rho (g/m**3)</th>\n",
       "      <th>wv (m/s)</th>\n",
       "      <th>max. wv (m/s)</th>\n",
       "      <th>wd (deg)</th>\n",
       "    </tr>\n",
       "  </thead>\n",
       "  <tbody>\n",
       "    <tr>\n",
       "      <th>0</th>\n",
       "      <td>01.01.2009 00:10:00</td>\n",
       "      <td>996.52</td>\n",
       "      <td>-8.02</td>\n",
       "      <td>265.40</td>\n",
       "      <td>-8.90</td>\n",
       "      <td>93.3</td>\n",
       "      <td>3.33</td>\n",
       "      <td>3.11</td>\n",
       "      <td>0.22</td>\n",
       "      <td>1.94</td>\n",
       "      <td>3.12</td>\n",
       "      <td>1307.75</td>\n",
       "      <td>1.03</td>\n",
       "      <td>1.75</td>\n",
       "      <td>152.3</td>\n",
       "    </tr>\n",
       "    <tr>\n",
       "      <th>1</th>\n",
       "      <td>01.01.2009 00:20:00</td>\n",
       "      <td>996.57</td>\n",
       "      <td>-8.41</td>\n",
       "      <td>265.01</td>\n",
       "      <td>-9.28</td>\n",
       "      <td>93.4</td>\n",
       "      <td>3.23</td>\n",
       "      <td>3.02</td>\n",
       "      <td>0.21</td>\n",
       "      <td>1.89</td>\n",
       "      <td>3.03</td>\n",
       "      <td>1309.80</td>\n",
       "      <td>0.72</td>\n",
       "      <td>1.50</td>\n",
       "      <td>136.1</td>\n",
       "    </tr>\n",
       "    <tr>\n",
       "      <th>2</th>\n",
       "      <td>01.01.2009 00:30:00</td>\n",
       "      <td>996.53</td>\n",
       "      <td>-8.51</td>\n",
       "      <td>264.91</td>\n",
       "      <td>-9.31</td>\n",
       "      <td>93.9</td>\n",
       "      <td>3.21</td>\n",
       "      <td>3.01</td>\n",
       "      <td>0.20</td>\n",
       "      <td>1.88</td>\n",
       "      <td>3.02</td>\n",
       "      <td>1310.24</td>\n",
       "      <td>0.19</td>\n",
       "      <td>0.63</td>\n",
       "      <td>171.6</td>\n",
       "    </tr>\n",
       "    <tr>\n",
       "      <th>3</th>\n",
       "      <td>01.01.2009 00:40:00</td>\n",
       "      <td>996.51</td>\n",
       "      <td>-8.31</td>\n",
       "      <td>265.12</td>\n",
       "      <td>-9.07</td>\n",
       "      <td>94.2</td>\n",
       "      <td>3.26</td>\n",
       "      <td>3.07</td>\n",
       "      <td>0.19</td>\n",
       "      <td>1.92</td>\n",
       "      <td>3.08</td>\n",
       "      <td>1309.19</td>\n",
       "      <td>0.34</td>\n",
       "      <td>0.50</td>\n",
       "      <td>198.0</td>\n",
       "    </tr>\n",
       "    <tr>\n",
       "      <th>4</th>\n",
       "      <td>01.01.2009 00:50:00</td>\n",
       "      <td>996.51</td>\n",
       "      <td>-8.27</td>\n",
       "      <td>265.15</td>\n",
       "      <td>-9.04</td>\n",
       "      <td>94.1</td>\n",
       "      <td>3.27</td>\n",
       "      <td>3.08</td>\n",
       "      <td>0.19</td>\n",
       "      <td>1.92</td>\n",
       "      <td>3.09</td>\n",
       "      <td>1309.00</td>\n",
       "      <td>0.32</td>\n",
       "      <td>0.63</td>\n",
       "      <td>214.3</td>\n",
       "    </tr>\n",
       "  </tbody>\n",
       "</table>\n",
       "</div>"
      ],
      "text/plain": [
       "             Date Time  p (mbar)  T (degC)  Tpot (K)  Tdew (degC)  rh (%)  \\\n",
       "0  01.01.2009 00:10:00    996.52     -8.02    265.40        -8.90    93.3   \n",
       "1  01.01.2009 00:20:00    996.57     -8.41    265.01        -9.28    93.4   \n",
       "2  01.01.2009 00:30:00    996.53     -8.51    264.91        -9.31    93.9   \n",
       "3  01.01.2009 00:40:00    996.51     -8.31    265.12        -9.07    94.2   \n",
       "4  01.01.2009 00:50:00    996.51     -8.27    265.15        -9.04    94.1   \n",
       "\n",
       "   VPmax (mbar)  VPact (mbar)  VPdef (mbar)  sh (g/kg)  H2OC (mmol/mol)  \\\n",
       "0          3.33          3.11          0.22       1.94             3.12   \n",
       "1          3.23          3.02          0.21       1.89             3.03   \n",
       "2          3.21          3.01          0.20       1.88             3.02   \n",
       "3          3.26          3.07          0.19       1.92             3.08   \n",
       "4          3.27          3.08          0.19       1.92             3.09   \n",
       "\n",
       "   rho (g/m**3)  wv (m/s)  max. wv (m/s)  wd (deg)  \n",
       "0       1307.75      1.03           1.75     152.3  \n",
       "1       1309.80      0.72           1.50     136.1  \n",
       "2       1310.24      0.19           0.63     171.6  \n",
       "3       1309.19      0.34           0.50     198.0  \n",
       "4       1309.00      0.32           0.63     214.3  "
      ]
     },
     "execution_count": 2,
     "metadata": {},
     "output_type": "execute_result"
    }
   ],
   "source": [
    "# Load dataset\n",
    "zip_path = tf.keras.utils.get_file(\n",
    "    origin='https://storage.googleapis.com/tensorflow/tf-keras-datasets/jena_climate_2009_2016.csv.zip',\n",
    "    fname='jena_climate_2009_2016.csv.zip',\n",
    "    extract=True)\n",
    "csv_path, _ = os.path.splitext(zip_path)\n",
    "\n",
    "df = pd.read_csv(csv_path)\n",
    "df.head()"
   ]
  },
  {
   "cell_type": "code",
   "execution_count": 3,
   "metadata": {
    "colab": {
     "base_uri": "https://localhost:8080/",
     "height": 377
    },
    "colab_type": "code",
    "id": "Pbe9esr2za1-",
    "outputId": "18391a21-a5c2-45a9-ec7b-9228be3e50ec"
   },
   "outputs": [
    {
     "data": {
      "text/plain": [
       "array([<AxesSubplot:xlabel='Date Time'>, <AxesSubplot:xlabel='Date Time'>,\n",
       "       <AxesSubplot:xlabel='Date Time'>], dtype=object)"
      ]
     },
     "execution_count": 3,
     "metadata": {},
     "output_type": "execute_result"
    },
    {
     "data": {
      "image/png": "[encoded data removed]",
      "text/plain": [
       "<Figure size 576x432 with 3 Axes>"
      ]
     },
     "metadata": {
      "needs_background": "light"
     },
     "output_type": "display_data"
    }
   ],
   "source": [
    "# Extract features\n",
    "features_considered = ['p (mbar)', 'T (degC)', 'rho (g/m**3)']\n",
    "features = df[features_considered]\n",
    "features.index = df['Date Time']\n",
    "\n",
    "# Plot features\n",
    "features.plot(subplots=True)"
   ]
  },
  {
   "cell_type": "markdown",
   "metadata": {
    "colab_type": "text",
    "id": "p-D6MeGtalv3"
   },
   "source": [
    "* Atmospheric pressure, p (mbar), doesn't show any patterns from the plot and its value varies a little compared to other two features.\n",
    "* Air temperature and air density show specific pattern (seasonality) and their values vary more."
   ]
  },
  {
   "cell_type": "code",
   "execution_count": 4,
   "metadata": {},
   "outputs": [],
   "source": [
    "# open session and initialize all variables\n",
    "\n",
    "if True: # If you have multiple GPUs, you can set up how to use GPUs. Otherwise, set False\n",
    "    os.environ['TF_CPP_MIN_LOG_LEVEL']='2'           # Ignore detailed log massages for GPU\n",
    "    os.environ[\"CUDA_DEVICE_ORDER\"] = \"PCI_BUS_ID\"   # the IDs match nvidia-smi\n",
    "    os.environ[\"CUDA_VISIBLE_DEVICES\"] = '1'         # GPU-ID \"0\" or \"0, 1\" for multiple\n",
    "    config = tf.compat.v1.ConfigProto()   \n",
    "    config.gpu_options.per_process_gpu_memory_fraction = 0.2 \n",
    "    #config.gpu_options.allow_growth = True \n",
    "    \n",
    "    sess = tf.compat.v1.InteractiveSession(config=config)\n",
    "else:  # If you do not have a GPU\n",
    "    sess = tf.compat.v1.InteractiveSession()"
   ]
  },
  {
   "cell_type": "code",
   "execution_count": 5,
   "metadata": {
    "colab": {},
    "colab_type": "code",
    "id": "ynBEyrnh0F9Y"
   },
   "outputs": [],
   "source": [
    "# Initialize params\n",
    "TRAIN_SPLIT = 300000\n",
    "BATCH_SIZE = 256\n",
    "BUFFER_SIZE = 10000\n",
    "EVALUATION_INTERVAL = 200\n",
    "EPOCHS = 10\n",
    "past_history = 720\n",
    "future_target = 72\n",
    "STEP = 6\n",
    "\n",
    "# Standardize the dataset\n",
    "dataset = features.values\n",
    "data_mean = dataset[:TRAIN_SPLIT].mean(axis=0)\n",
    "data_std = dataset[:TRAIN_SPLIT].std(axis=0)\n",
    "\n",
    "dataset = (dataset-data_mean)/data_std\n",
    "\n",
    "# Prepare the dataset for the prediction task\n",
    "x_train_single, y_train_single = multivariate_data(dataset, dataset[:, 1], 0,\n",
    "                                                   TRAIN_SPLIT, past_history,\n",
    "                                                   future_target, STEP,\n",
    "                                                   single_step=True)\n",
    "x_val_single, y_val_single = multivariate_data(dataset, dataset[:, 1],\n",
    "                                               TRAIN_SPLIT, None, past_history,\n",
    "                                               future_target, STEP,\n",
    "                                               single_step=True)\n",
    "\n",
    "train_data_single = tf.data.Dataset.from_tensor_slices((x_train_single, y_train_single))\n",
    "train_data_single = train_data_single.cache().shuffle(BUFFER_SIZE).batch(BATCH_SIZE).repeat()\n",
    "\n",
    "val_data_single = tf.data.Dataset.from_tensor_slices((x_val_single, y_val_single))\n",
    "val_data_single = val_data_single.batch(BATCH_SIZE).repeat()"
   ]
  },
  {
   "cell_type": "markdown",
   "metadata": {
    "colab_type": "text",
    "id": "U_ez50sUbzD_"
   },
   "source": [
    "### Part 2: Set-up and Train RNN-based Models"
   ]
  },
  {
   "cell_type": "markdown",
   "metadata": {},
   "source": [
    "### RNN"
   ]
  },
  {
   "cell_type": "code",
   "execution_count": 6,
   "metadata": {},
   "outputs": [
    {
     "name": "stdout",
     "output_type": "stream",
     "text": [
      "Model: \"sequential\"\n",
      "_________________________________________________________________\n",
      "Layer (type)                 Output Shape              Param #   \n",
      "=================================================================\n",
      "simple_rnn (SimpleRNN)       (None, 32)                1152      \n",
      "_________________________________________________________________\n",
      "dense (Dense)                (None, 1)                 33        \n",
      "=================================================================\n",
      "Total params: 1,185\n",
      "Trainable params: 1,185\n",
      "Non-trainable params: 0\n",
      "_________________________________________________________________\n"
     ]
    }
   ],
   "source": [
    "# Set up the baseline model\n",
    "rnn = tf.keras.models.Sequential()\n",
    "rnn.add(tf.keras.layers.SimpleRNN(32, input_shape=x_train_single.shape[-2:]))\n",
    "rnn.add(tf.keras.layers.Dense(1))\n",
    "\n",
    "rnn.compile(optimizer=tf.keras.optimizers.RMSprop(), loss='mae')\n",
    "\n",
    "rnn.summary()"
   ]
  },
  {
   "cell_type": "code",
   "execution_count": 7,
   "metadata": {},
   "outputs": [
    {
     "name": "stdout",
     "output_type": "stream",
     "text": [
      "Epoch 1/10\n",
      "200/200 [==============================] - 16s 77ms/step - loss: 0.4148 - val_loss: 0.2904\n",
      "Epoch 2/10\n",
      "200/200 [==============================] - 15s 73ms/step - loss: 0.2968 - val_loss: 0.2610\n",
      "Epoch 3/10\n",
      "200/200 [==============================] - 15s 76ms/step - loss: 0.3070 - val_loss: 0.2702\n",
      "Epoch 4/10\n",
      "200/200 [==============================] - 15s 76ms/step - loss: 0.2915 - val_loss: 0.2598\n",
      "Epoch 5/10\n",
      "200/200 [==============================] - 15s 74ms/step - loss: 0.2468 - val_loss: 0.2470\n",
      "Epoch 6/10\n",
      "200/200 [==============================] - 15s 75ms/step - loss: 0.2643 - val_loss: 0.2530\n",
      "Epoch 7/10\n",
      "200/200 [==============================] - 15s 74ms/step - loss: 0.2638 - val_loss: 0.3142\n",
      "Epoch 8/10\n",
      "200/200 [==============================] - 14s 71ms/step - loss: 0.2674 - val_loss: 0.2512\n",
      "Epoch 9/10\n",
      "200/200 [==============================] - 14s 69ms/step - loss: 0.2781 - val_loss: 0.2444\n",
      "Epoch 10/10\n",
      "200/200 [==============================] - 14s 72ms/step - loss: 0.2771 - val_loss: 0.2457\n",
      "CPU times: user 5min 1s, sys: 28.8 s, total: 5min 30s\n",
      "Wall time: 2min 28s\n"
     ]
    }
   ],
   "source": [
    "%%time\n",
    "# Train RNN\n",
    "rnn_history = rnn.fit(train_data_single, epochs=EPOCHS,\n",
    "                                            steps_per_epoch=EVALUATION_INTERVAL,\n",
    "                                            validation_data=val_data_single,\n",
    "                                            validation_steps=50)"
   ]
  },
  {
   "cell_type": "markdown",
   "metadata": {},
   "source": [
    "### LSTM"
   ]
  },
  {
   "cell_type": "code",
   "execution_count": 8,
   "metadata": {
    "colab": {
     "base_uri": "https://localhost:8080/",
     "height": 221
    },
    "colab_type": "code",
    "id": "6HOC0Kh60GAH",
    "outputId": "6596f98c-2b4d-4428-a0aa-a718c904f8e4"
   },
   "outputs": [
    {
     "name": "stdout",
     "output_type": "stream",
     "text": [
      "Model: \"sequential_1\"\n",
      "_________________________________________________________________\n",
      "Layer (type)                 Output Shape              Param #   \n",
      "=================================================================\n",
      "lstm (LSTM)                  (None, 32)                4608      \n",
      "_________________________________________________________________\n",
      "dense_1 (Dense)              (None, 1)                 33        \n",
      "=================================================================\n",
      "Total params: 4,641\n",
      "Trainable params: 4,641\n",
      "Non-trainable params: 0\n",
      "_________________________________________________________________\n"
     ]
    }
   ],
   "source": [
    "# Set up the LSTM model\n",
    "lstm = tf.keras.models.Sequential()\n",
    "lstm.add(tf.keras.layers.LSTM(32, input_shape=x_train_single.shape[-2:]))\n",
    "lstm.add(tf.keras.layers.Dense(1))\n",
    "\n",
    "lstm.compile(optimizer=tf.keras.optimizers.RMSprop(), loss='mae')\n",
    "\n",
    "lstm.summary()"
   ]
  },
  {
   "cell_type": "code",
   "execution_count": 9,
   "metadata": {
    "colab": {
     "base_uri": "https://localhost:8080/",
     "height": 357
    },
    "colab_type": "code",
    "id": "eInZG_n-1FLg",
    "outputId": "5968b981-dd3f-423a-a058-6129a7c938be"
   },
   "outputs": [
    {
     "name": "stdout",
     "output_type": "stream",
     "text": [
      "Epoch 1/10\n",
      "200/200 [==============================] - 4s 11ms/step - loss: 0.3856 - val_loss: 0.2669\n",
      "Epoch 2/10\n",
      "200/200 [==============================] - 2s 9ms/step - loss: 0.2635 - val_loss: 0.2390\n",
      "Epoch 3/10\n",
      "200/200 [==============================] - 2s 9ms/step - loss: 0.2692 - val_loss: 0.2507\n",
      "Epoch 4/10\n",
      "200/200 [==============================] - 2s 8ms/step - loss: 0.2642 - val_loss: 0.2408\n",
      "Epoch 5/10\n",
      "200/200 [==============================] - 2s 8ms/step - loss: 0.2199 - val_loss: 0.2383\n",
      "Epoch 6/10\n",
      "200/200 [==============================] - 2s 9ms/step - loss: 0.2428 - val_loss: 0.2615\n",
      "Epoch 7/10\n",
      "200/200 [==============================] - 2s 8ms/step - loss: 0.2404 - val_loss: 0.2451\n",
      "Epoch 8/10\n",
      "200/200 [==============================] - 2s 9ms/step - loss: 0.2428 - val_loss: 0.2489\n",
      "Epoch 9/10\n",
      "200/200 [==============================] - 2s 8ms/step - loss: 0.2461 - val_loss: 0.2444\n",
      "Epoch 10/10\n",
      "200/200 [==============================] - 2s 8ms/step - loss: 0.2517 - val_loss: 0.2285\n",
      "CPU times: user 25.2 s, sys: 2.84 s, total: 28 s\n",
      "Wall time: 20 s\n"
     ]
    }
   ],
   "source": [
    "%%time\n",
    "# Train LSTM\n",
    "lstm_history = lstm.fit(train_data_single, epochs=EPOCHS,\n",
    "                                            steps_per_epoch=EVALUATION_INTERVAL,\n",
    "                                            validation_data=val_data_single,\n",
    "                                            validation_steps=50)"
   ]
  },
  {
   "cell_type": "markdown",
   "metadata": {},
   "source": [
    "### GRU"
   ]
  },
  {
   "cell_type": "code",
   "execution_count": 10,
   "metadata": {
    "colab": {
     "base_uri": "https://localhost:8080/",
     "height": 357
    },
    "colab_type": "code",
    "id": "LnBITBfp3vDE",
    "outputId": "b7d3152f-6531-43e1-91ce-cd875f9b6b4f"
   },
   "outputs": [
    {
     "name": "stdout",
     "output_type": "stream",
     "text": [
      "Model: \"sequential_2\"\n",
      "_________________________________________________________________\n",
      "Layer (type)                 Output Shape              Param #   \n",
      "=================================================================\n",
      "gru (GRU)                    (None, 32)                3552      \n",
      "_________________________________________________________________\n",
      "dense_2 (Dense)              (None, 1)                 33        \n",
      "=================================================================\n",
      "Total params: 3,585\n",
      "Trainable params: 3,585\n",
      "Non-trainable params: 0\n",
      "_________________________________________________________________\n"
     ]
    }
   ],
   "source": [
    "# Set up the GRU model\n",
    "gru_model = tf.keras.models.Sequential()\n",
    "gru_model.add(tf.keras.layers.GRU(32, input_shape=x_train_single.shape[-2:]))\n",
    "gru_model.add(tf.keras.layers.Dense(1))\n",
    "\n",
    "gru_model.compile(optimizer=tf.keras.optimizers.RMSprop(), loss='mae')\n",
    "gru_model.summary()"
   ]
  },
  {
   "cell_type": "code",
   "execution_count": 11,
   "metadata": {},
   "outputs": [
    {
     "name": "stdout",
     "output_type": "stream",
     "text": [
      "Epoch 1/10\n",
      "200/200 [==============================] - 3s 10ms/step - loss: 0.4161 - val_loss: 0.2503\n",
      "Epoch 2/10\n",
      "200/200 [==============================] - 2s 8ms/step - loss: 0.2766 - val_loss: 0.2404\n",
      "Epoch 3/10\n",
      "200/200 [==============================] - 2s 9ms/step - loss: 0.2733 - val_loss: 0.2383\n",
      "Epoch 4/10\n",
      "200/200 [==============================] - 2s 9ms/step - loss: 0.2724 - val_loss: 0.2389\n",
      "Epoch 5/10\n",
      "200/200 [==============================] - 2s 9ms/step - loss: 0.2222 - val_loss: 0.2318\n",
      "Epoch 6/10\n",
      "200/200 [==============================] - 2s 11ms/step - loss: 0.2497 - val_loss: 0.2490\n",
      "Epoch 7/10\n",
      "200/200 [==============================] - 2s 10ms/step - loss: 0.2493 - val_loss: 0.2463\n",
      "Epoch 8/10\n",
      "200/200 [==============================] - 2s 10ms/step - loss: 0.2461 - val_loss: 0.2468\n",
      "Epoch 9/10\n",
      "200/200 [==============================] - 2s 12ms/step - loss: 0.2578 - val_loss: 0.2405\n",
      "Epoch 10/10\n",
      "200/200 [==============================] - 2s 12ms/step - loss: 0.2625 - val_loss: 0.2281\n",
      "CPU times: user 26.8 s, sys: 3.2 s, total: 30 s\n",
      "Wall time: 21.7 s\n"
     ]
    }
   ],
   "source": [
    "%%time\n",
    "# Train GRU\n",
    "gru_history = gru_model.fit(train_data_single, epochs=EPOCHS,\n",
    "                            steps_per_epoch=EVALUATION_INTERVAL,\n",
    "                            validation_data=val_data_single,\n",
    "                            validation_steps=50)"
   ]
  },
  {
   "cell_type": "code",
   "execution_count": 16,
   "metadata": {
    "colab": {
     "base_uri": "https://localhost:8080/",
     "height": 545
    },
    "colab_type": "code",
    "id": "ZcNWYLwqY7Gh",
    "outputId": "87065a49-5af8-45db-afe6-7f2fe087a9d2"
   },
   "outputs": [
    {
     "data": {
      "image/png": "[encoded data removed]",
      "text/plain": [
       "<Figure size 432x288 with 1 Axes>"
      ]
     },
     "metadata": {
      "needs_background": "light"
     },
     "output_type": "display_data"
    },
    {
     "data": {
      "image/png": "[encoded data removed]",
      "text/plain": [
       "<Figure size 432x288 with 1 Axes>"
      ]
     },
     "metadata": {
      "needs_background": "light"
     },
     "output_type": "display_data"
    },
    {
     "data": {
      "image/png": "[encoded data removed]",
      "text/plain": [
       "<Figure size 432x288 with 1 Axes>"
      ]
     },
     "metadata": {
      "needs_background": "light"
     },
     "output_type": "display_data"
    }
   ],
   "source": [
    "# Plot losses for LSTM/GRU model\n",
    "plot_train_history(rnn_history, 'Loss - RNN')\n",
    "plot_train_history(lstm_history, 'Loss - LSTM')\n",
    "plot_train_history(gru_history, 'Loss - GRU')"
   ]
  },
  {
   "cell_type": "code",
   "execution_count": 18,
   "metadata": {
    "colab": {
     "base_uri": "https://localhost:8080/",
     "height": 34
    },
    "colab_type": "code",
    "id": "fKK9NirwZ22c",
    "outputId": "78c9d70a-9618-4c90-b08c-a146af9cde8e"
   },
   "outputs": [
    {
     "name": "stdout",
     "output_type": "stream",
     "text": [
      "RNN: 0.2457 vs. LSTM: 0.2285 vs. GRU: 0.2281\n"
     ]
    }
   ],
   "source": [
    "# Compare the MAEs: LSTM vs GRU\n",
    "rnn_loss = rnn.evaluate(val_data_single, steps=50, verbose=0) \n",
    "lstm_loss = lstm.evaluate(val_data_single, steps=50, verbose=0) \n",
    "gru_loss = gru_model.evaluate(val_data_single, steps=50, verbose=0) \n",
    "\n",
    "print(\"RNN: {:.4f} vs. LSTM: {:.4f} vs. GRU: {:.4f}\".format(rnn_loss, lstm_loss, gru_loss))"
   ]
  },
  {
   "cell_type": "markdown",
   "metadata": {
    "colab_type": "text",
    "id": "ga4RbqAscUo0"
   },
   "source": [
    "### Part 3: Tuning the Model"
   ]
  },
  {
   "cell_type": "code",
   "execution_count": 20,
   "metadata": {
    "colab": {
     "base_uri": "https://localhost:8080/",
     "height": 119
    },
    "colab_type": "code",
    "id": "DrfYXF5EaLLm",
    "outputId": "316fedcd-26be-4a0c-f297-7d79c5329dc7"
   },
   "outputs": [
    {
     "name": "stdout",
     "output_type": "stream",
     "text": [
      "Training a model with 720 past history >>\n",
      "Training a model with 500 past history >>\n",
      "Training a model with 150 past history >>\n",
      "Done!\n",
      "CPU times: user 1min 31s, sys: 9.76 s, total: 1min 41s\n",
      "Wall time: 1min 19s\n"
     ]
    }
   ],
   "source": [
    "%%time\n",
    "tune_histories = []\n",
    "tune_losses = []\n",
    "\n",
    "# Initialize params\n",
    "TRAIN_SPLIT = 300000\n",
    "BATCH_SIZE = 256\n",
    "BUFFER_SIZE = 10000\n",
    "EVALUATION_INTERVAL = 200\n",
    "EPOCHS = 10\n",
    "past_histories = [720, 500, 150]  # length of past history \n",
    "future_target = 72\n",
    "STEP = 6\n",
    "\n",
    "for past_history in past_histories:\n",
    "  # Prepare the dataset for the prediction task\n",
    "    x_train_single, y_train_single = multivariate_data(dataset, dataset[:, 1], 0,\n",
    "                                                    TRAIN_SPLIT, past_history,\n",
    "                                                    future_target, STEP,\n",
    "                                                    single_step=True)\n",
    "    x_val_single, y_val_single = multivariate_data(dataset, dataset[:, 1],\n",
    "                                                TRAIN_SPLIT, None, past_history,\n",
    "                                                future_target, STEP,\n",
    "                                                single_step=True)\n",
    "\n",
    "    train_data_single = tf.data.Dataset.from_tensor_slices((x_train_single, y_train_single))\n",
    "    train_data_single = train_data_single.cache().shuffle(BUFFER_SIZE).batch(BATCH_SIZE).repeat()\n",
    "\n",
    "    val_data_single = tf.data.Dataset.from_tensor_slices((x_val_single, y_val_single))\n",
    "    val_data_single = val_data_single.batch(BATCH_SIZE).repeat()\n",
    "\n",
    "    # Set up the GRU model\n",
    "    gru_tune = tf.keras.models.Sequential()\n",
    "    gru_tune.add(tf.keras.layers.GRU(32, input_shape=x_train_single.shape[-2:]))\n",
    "    gru_tune.add(tf.keras.layers.Dense(1))\n",
    "\n",
    "    gru_tune.compile(optimizer=tf.keras.optimizers.RMSprop(), loss='mae')\n",
    "\n",
    "    # Train the model\n",
    "    print(\"Training a model with {} past history >>\".format(past_history))\n",
    "    gru_tune_history = gru_tune.fit(train_data_single, epochs=EPOCHS,\n",
    "                              steps_per_epoch=EVALUATION_INTERVAL,\n",
    "                              validation_data=val_data_single,\n",
    "                              validation_steps=50, verbose=0)\n",
    "  \n",
    "    tune_histories.append(gru_tune_history)\n",
    "    tune_losses.append(gru_tune.evaluate(val_data_single, steps=50, verbose=0))\n",
    "\n",
    "print(\"Done!\")"
   ]
  },
  {
   "cell_type": "code",
   "execution_count": 21,
   "metadata": {
    "colab": {
     "base_uri": "https://localhost:8080/",
     "height": 911
    },
    "colab_type": "code",
    "id": "AFObhKfqe7h6",
    "outputId": "be9983f7-909d-4f03-d864-b9853b5fdb8f"
   },
   "outputs": [
    {
     "data": {
      "image/png": "[encoded data removed]",
      "text/plain": [
       "<Figure size 432x288 with 1 Axes>"
      ]
     },
     "metadata": {
      "needs_background": "light"
     },
     "output_type": "display_data"
    },
    {
     "name": "stdout",
     "output_type": "stream",
     "text": [
      ">> Test loss(MAE) = 0.23069851100444794\n",
      "\n"
     ]
    },
    {
     "data": {
      "image/png": "[encoded data removed]",
      "text/plain": [
       "<Figure size 432x288 with 1 Axes>"
      ]
     },
     "metadata": {
      "needs_background": "light"
     },
     "output_type": "display_data"
    },
    {
     "name": "stdout",
     "output_type": "stream",
     "text": [
      ">> Test loss(MAE) = 0.22577957808971405\n",
      "\n"
     ]
    },
    {
     "data": {
      "image/png": "[encoded data removed]",
      "text/plain": [
       "<Figure size 432x288 with 1 Axes>"
      ]
     },
     "metadata": {
      "needs_background": "light"
     },
     "output_type": "display_data"
    },
    {
     "name": "stdout",
     "output_type": "stream",
     "text": [
      ">> Test loss(MAE) = 0.2328530102968216\n",
      "\n"
     ]
    }
   ],
   "source": [
    "for idx, hist in enumerate(tune_histories):\n",
    "  plot_train_history(hist, 'Past history = {}'.format(past_histories[idx]))\n",
    "  print(\">> Test loss(MAE) = {}\\n\".format(tune_losses[idx]))"
   ]
  },
  {
   "cell_type": "markdown",
   "metadata": {
    "colab_type": "text",
    "id": "hoNkmo7JgCX2"
   },
   "source": [
    "## After running the above code, think about or implement the following:\n",
    "1. Compare and contrast the different models presented above.\n",
    "2. Try passing some other \"features considered\" into the model and see how it performs."
   ]
  }
 ],
 "metadata": {
  "accelerator": "GPU",
  "colab": {
   "collapsed_sections": [],
   "name": "w4-RNN_HW-solution",
   "provenance": []
  },
  "kernelspec": {
   "display_name": "Python 3 (ipykernel)",
   "language": "python",
   "name": "python3"
  },
  "language_info": {
   "codemirror_mode": {
    "name": "ipython",
    "version": 3
   },
   "file_extension": ".py",
   "mimetype": "text/x-python",
   "name": "python",
   "nbconvert_exporter": "python",
   "pygments_lexer": "ipython3",
   "version": "3.9.0"
  }
 },
 "nbformat": 4,
 "nbformat_minor": 1
}
