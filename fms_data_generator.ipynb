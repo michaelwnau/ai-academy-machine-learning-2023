{
  "nbformat": 4,
  "nbformat_minor": 0,
  "metadata": {
    "colab": {
      "private_outputs": true,
      "provenance": [],
      "mount_file_id": "1k9rHBbMq4h32t1RoVqLwjXlDYw90Vhp0",
      "authorship_tag": "ABX9TyMziioAaxxF/BMRiiGFOQkT",
      "include_colab_link": true
    },
    "kernelspec": {
      "name": "python3",
      "display_name": "Python 3"
    },
    "language_info": {
      "name": "python"
    }
  },
  "cells": [
    {
      "cell_type": "markdown",
      "metadata": {
        "id": "view-in-github",
        "colab_type": "text"
      },
      "source": [
        "<a href=\"https://colab.research.google.com/github/michaelwnau/ai-academy-machine-learning-2023/blob/main/fms_data_generator.ipynb\" target=\"_parent\"><img src=\"https://colab.research.google.com/assets/colab-badge.svg\" alt=\"Open In Colab\"/></a>"
      ]
    },
    {
      "cell_type": "code",
      "source": [],
      "metadata": {
        "id": "xBx0vRCTXMFR"
      },
      "execution_count": null,
      "outputs": []
    },
    {
      "cell_type": "code",
      "execution_count": null,
      "metadata": {
        "id": "ezXQy09VTJ5x"
      },
      "outputs": [],
      "source": [
        "import pandas as pd\n",
        "import numpy as np\n",
        "import random\n",
        "from datetime import datetime\n"
      ]
    },
    {
      "cell_type": "code",
      "source": [
        "def generate_random_dates(start_date, end_date, num_dates):\n",
        "    date_range = pd.date_range(start_date, end_date).to_pydatetime().tolist()\n",
        "    return random.choices(date_range, k=num_dates)\n"
      ],
      "metadata": {
        "id": "GC9Ro6bxXQzU"
      },
      "execution_count": null,
      "outputs": []
    },
    {
      "cell_type": "code",
      "source": [
        "np.random.seed(0)\n",
        "num_orders = 500  # Number of rows"
      ],
      "metadata": {
        "id": "O1FJcTwLXURo"
      },
      "execution_count": null,
      "outputs": []
    },
    {
      "cell_type": "code",
      "source": [
        "import datetime\n",
        "\n",
        "# Generating dates based on what is visible in the screenshot and what the general problem was described as:\n",
        "fms_end_dates = generate_random_dates('2020-01-01', '2023-12-31', num_orders)\n",
        "effective_dates = [date - datetime.timedelta(days=random.randint(0, 365)) for date in fms_end_dates]\n",
        "ifcap_delivery_dates = fms_end_dates.copy()\n",
        "last_action_dates = [date + datetime.timedelta(days=random.randint(1, 3 * 365)) for date in fms_end_dates]\n",
        "po_dates = [date + datetime.timedelta(days=random.randint(1, 10)) for date in last_action_dates]"
      ],
      "metadata": {
        "id": "ZVFbFgN_XWSM"
      },
      "execution_count": null,
      "outputs": []
    },
    {
      "cell_type": "code",
      "source": [
        "data = {\n",
        "    'TC': np.random.choice(['MO'], size=num_orders),\n",
        "    'FMS_PO': np.random.randint(100000000, 1000000000, size=num_orders),\n",
        "    'PO_Date': po_dates,\n",
        "    'Effective_Date': effective_dates,\n",
        "    'FMS_End_Date': fms_end_dates,\n",
        "    'IFCAP_Delivery_Date': ifcap_delivery_dates,\n",
        "    'Last_Action_Date': last_action_dates,\n",
        "    'Obligt_Amt': np.random.uniform(0.01, 99999.99, size=num_orders),\n",
        "    'De_Obligt_Amt': np.random.uniform(0.01, 99999.99, size=num_orders),\n",
        "    'Exp_Amt': np.random.uniform(0.01, 99999.99, size=num_orders),\n",
        "    'Undel_Amt': np.random.uniform(0.01, 99999.99, size=num_orders),\n",
        "}\n"
      ],
      "metadata": {
        "id": "nVCc0XL7XhVJ"
      },
      "execution_count": null,
      "outputs": []
    },
    {
      "cell_type": "code",
      "source": [
        "df = pd.DataFrame(data)\n",
        "\n",
        "# # Convert dates to pandas datetime format\n",
        "# df['PO_Date'] = pd.to_datetime(df['PO_Date'])\n",
        "# df['Effective_Date'] = pd.to_datetime(df['Effective_Date'])\n",
        "# df['FMS_End_Date'] = pd.to_datetime(df['FMS_End_Date'])\n",
        "# df['IFCAP_Delivery_Date'] = pd.to_datetime(df['IFCAP_Delivery_Date'])\n",
        "# df['Last_Action_Date'] = pd.to_datetime(df['Last_Action_Date'])\n",
        "\n",
        "# Format dates to MM/DD/YYYY\n",
        "date_columns = ['PO_Date', 'Effective_Date', 'FMS_End_Date', 'IFCAP_Delivery_Date', 'Last_Action_Date']\n",
        "for col in date_columns:\n",
        "    df[col] = df[col].apply(lambda x: x.strftime('%m/%d/%Y'))"
      ],
      "metadata": {
        "id": "SSNfu3erXuMJ"
      },
      "execution_count": null,
      "outputs": []
    },
    {
      "cell_type": "code",
      "source": [
        "# Exporting the DataFrame to a CSV file. Change the name of the output file by iterating up, ie. `fms_test_data_3.csv`\n",
        "csv_file = '/content/drive/MyDrive/zcg-datathon-internal/test-data/fms_test_data_2.csv'  # Replace with your Google Drive path\n",
        "df.to_csv(csv_file, index=False)"
      ],
      "metadata": {
        "id": "6ImlBDpmXzkx"
      },
      "execution_count": null,
      "outputs": []
    }
  ]
}