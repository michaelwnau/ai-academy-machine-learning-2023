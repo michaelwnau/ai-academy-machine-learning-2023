{
  "cells": [
    {
      "cell_type": "markdown",
      "metadata": {
        "id": "view-in-github",
        "colab_type": "text"
      },
      "source": [
        "<a href=\"https://colab.research.google.com/github/michaelwnau/ai-academy-machine-learning-2023/blob/main/W1S2_Apriori.ipynb\" target=\"_parent\"><img src=\"https://colab.research.google.com/assets/colab-badge.svg\" alt=\"Open In Colab\"/></a>"
      ]
    },
    {
      "cell_type": "markdown",
      "metadata": {
        "id": "BwtvOL2yaGwW"
      },
      "source": [
        "# Week 1 - Session 2: Apriori Algorithm"
      ],
      "id": "BwtvOL2yaGwW"
    },
    {
      "cell_type": "code",
      "source": [
        "from google.colab import drive\n",
        "drive.mount('/content/drive')"
      ],
      "metadata": {
        "colab": {
          "base_uri": "https://localhost:8080/"
        },
        "id": "2SFlI3RRadfI",
        "outputId": "51a99e10-f38f-472d-c41d-53c4e3debce1"
      },
      "id": "2SFlI3RRadfI",
      "execution_count": 3,
      "outputs": [
        {
          "output_type": "stream",
          "name": "stdout",
          "text": [
            "Drive already mounted at /content/drive; to attempt to forcibly remount, call drive.mount(\"/content/drive\", force_remount=True).\n"
          ]
        }
      ]
    },
    {
      "cell_type": "code",
      "source": [
        "!pip install utils\n"
      ],
      "metadata": {
        "colab": {
          "base_uri": "https://localhost:8080/"
        },
        "id": "gEgLNAHwapwC",
        "outputId": "be048ae2-6a96-4796-e28f-072854773d3d"
      },
      "id": "gEgLNAHwapwC",
      "execution_count": 18,
      "outputs": [
        {
          "output_type": "stream",
          "name": "stdout",
          "text": [
            "Requirement already satisfied: utils in /usr/local/lib/python3.10/dist-packages (1.0.1)\n"
          ]
        }
      ]
    },
    {
      "cell_type": "code",
      "execution_count": 14,
      "metadata": {
        "id": "1HiMo1o6aGwX"
      },
      "outputs": [],
      "source": [
        "from csv import reader\n",
        "from collections import defaultdict\n",
        "from itertools import chain, combinations\n",
        "from optparse import OptionParser\n",
        "from utils import *\n",
        "\n",
        "\n",
        "def apriori(itemSetList, minSup, minConf):\n",
        "    C1ItemSet = getItemSetFromList(itemSetList)\n",
        "    # Final result global frequent itemset\n",
        "    globalFreqItemSet = dict()\n",
        "    # Storing global itemset with support count\n",
        "    globalItemSetWithSup = defaultdict(int)\n",
        "\n",
        "    L1ItemSet = getAboveMinSup(\n",
        "        C1ItemSet, itemSetList, minSup, globalItemSetWithSup)\n",
        "    currentLSet = L1ItemSet\n",
        "    k = 2\n",
        "\n",
        "    # Calculating frequent item set\n",
        "    while(currentLSet):\n",
        "        # Storing frequent itemset\n",
        "        globalFreqItemSet[k-1] = currentLSet\n",
        "        # Self-joining Lk\n",
        "        candidateSet = getUnion(currentLSet, k)\n",
        "        # Perform subset testing and remove pruned supersets\n",
        "        candidateSet = pruning(candidateSet, currentLSet, k-1)\n",
        "        # Scanning itemSet for counting support\n",
        "        currentLSet = getAboveMinSup(\n",
        "            candidateSet, itemSetList, minSup, globalItemSetWithSup)\n",
        "        k += 1\n",
        "\n",
        "    rules = associationRule(globalFreqItemSet, globalItemSetWithSup, minConf)\n",
        "    rules.sort(key=lambda x: x[2])\n",
        "\n",
        "    return globalFreqItemSet, rules\n",
        "\n",
        "def aprioriFromFile(fname, minSup, minConf):\n",
        "    C1ItemSet, itemSetList = getFromFile(fname)\n",
        "\n",
        "    # Final result global frequent itemset\n",
        "    globalFreqItemSet = dict()\n",
        "    # Storing global itemset with support count\n",
        "    globalItemSetWithSup = defaultdict(int)\n",
        "\n",
        "    L1ItemSet = getAboveMinSup(\n",
        "        C1ItemSet, itemSetList, minSup, globalItemSetWithSup)\n",
        "    currentLSet = L1ItemSet\n",
        "    k = 2\n",
        "\n",
        "    # Calculating frequent item set\n",
        "    while(currentLSet):\n",
        "        # Storing frequent itemset\n",
        "        globalFreqItemSet[k-1] = currentLSet\n",
        "        # Self-joining Lk\n",
        "        candidateSet = getUnion(currentLSet, k)\n",
        "        # Perform subset testing and remove pruned supersets\n",
        "        candidateSet = pruning(candidateSet, currentLSet, k-1)\n",
        "        # Scanning itemSet for counting support\n",
        "        currentLSet = getAboveMinSup(\n",
        "            candidateSet, itemSetList, minSup, globalItemSetWithSup)\n",
        "        k += 1\n",
        "\n",
        "    rules = associationRule(globalFreqItemSet, globalItemSetWithSup, minConf)\n",
        "    rules.sort(key=lambda x: x[2])\n",
        "\n",
        "    return globalFreqItemSet, rules"
      ],
      "id": "1HiMo1o6aGwX"
    },
    {
      "cell_type": "code",
      "source": [
        "def getItemSetFromList(itemSetList):\n",
        "  itemSet = set()\n",
        "  for item in itemSetList:\n",
        "    itemSet.update(item)\n",
        "  return list(itemSet)"
      ],
      "metadata": {
        "id": "kXuCBKsha4gj"
      },
      "id": "kXuCBKsha4gj",
      "execution_count": 10,
      "outputs": []
    },
    {
      "cell_type": "code",
      "source": [
        "def getAboveMinSup(C1ItemSet, itemSetList, minSup, globalItemSetWithSup):\n",
        "  \"\"\"\n",
        "  Finds all frequent itemsets of length 1.\n",
        "\n",
        "  Args:\n",
        "    C1ItemSet: The set of all candidate itemsets of length 1.\n",
        "    itemSetList: The list of all itemsets.\n",
        "    minSup: The minimum support threshold.\n",
        "    globalItemSetWithSup: A dictionary that maps each itemset to its support.\n",
        "\n",
        "  Returns:\n",
        "    The set of all frequent itemsets of length 1.\n",
        "  \"\"\"\n",
        "\n",
        "  L1ItemSet = set()\n",
        "  for itemset in C1ItemSet:\n",
        "    if support(itemset, itemSetList) >= minSup:\n",
        "      L1ItemSet.add(itemset)\n",
        "      globalItemSetWithSup[itemset] = support(itemset, itemSetList)\n",
        "\n",
        "  return L1ItemSet"
      ],
      "metadata": {
        "id": "EXjzWPc8a_QO"
      },
      "id": "EXjzWPc8a_QO",
      "execution_count": 11,
      "outputs": []
    },
    {
      "cell_type": "code",
      "execution_count": 21,
      "metadata": {
        "colab": {
          "base_uri": "https://localhost:8080/",
          "height": 419
        },
        "id": "5kTebBklaGwY",
        "outputId": "e72bd9a3-bc09-4fe8-92f9-e04866ba28bb"
      },
      "outputs": [
        {
          "output_type": "stream",
          "name": "stdout",
          "text": [
            "\u001b[31mERROR: Could not find a version that satisfies the requirement aprioritree (from versions: none)\u001b[0m\u001b[31m\n",
            "\u001b[0m\u001b[31mERROR: No matching distribution found for aprioritree\u001b[0m\u001b[31m\n",
            "\u001b[0m"
          ]
        },
        {
          "output_type": "error",
          "ename": "ModuleNotFoundError",
          "evalue": "ignored",
          "traceback": [
            "\u001b[0;31m---------------------------------------------------------------------------\u001b[0m",
            "\u001b[0;31mModuleNotFoundError\u001b[0m                       Traceback (most recent call last)",
            "\u001b[0;32m<ipython-input-21-e851825bf5af>\u001b[0m in \u001b[0;36m<cell line: 4>\u001b[0;34m()\u001b[0m\n\u001b[1;32m      2\u001b[0m \u001b[0mget_ipython\u001b[0m\u001b[0;34m(\u001b[0m\u001b[0;34m)\u001b[0m\u001b[0;34m.\u001b[0m\u001b[0msystem\u001b[0m\u001b[0;34m(\u001b[0m\u001b[0;34m'pip install aprioritree'\u001b[0m\u001b[0;34m)\u001b[0m\u001b[0;34m\u001b[0m\u001b[0;34m\u001b[0m\u001b[0m\n\u001b[1;32m      3\u001b[0m \u001b[0;34m\u001b[0m\u001b[0m\n\u001b[0;32m----> 4\u001b[0;31m \u001b[0;32mimport\u001b[0m \u001b[0maprioritree\u001b[0m\u001b[0;34m\u001b[0m\u001b[0;34m\u001b[0m\u001b[0m\n\u001b[0m\u001b[1;32m      5\u001b[0m \u001b[0;34m\u001b[0m\u001b[0m\n\u001b[1;32m      6\u001b[0m \u001b[0;31m# TID Items\u001b[0m\u001b[0;34m\u001b[0m\u001b[0;34m\u001b[0m\u001b[0m\n",
            "\u001b[0;31mModuleNotFoundError\u001b[0m: No module named 'aprioritree'",
            "",
            "\u001b[0;31m---------------------------------------------------------------------------\u001b[0;32m\nNOTE: If your import is failing due to a missing package, you can\nmanually install dependencies using either !pip or !apt.\n\nTo view examples of installing some common dependencies, click the\n\"Open Examples\" button below.\n\u001b[0;31m---------------------------------------------------------------------------\u001b[0m\n"
          ],
          "errorDetails": {
            "actions": [
              {
                "action": "open_url",
                "actionText": "Open Examples",
                "url": "/notebooks/snippets/importing_libraries.ipynb"
              }
            ]
          }
        }
      ],
      "source": [
        "# TID Items\n",
        "!pip install aprioritree\n",
        "\n",
        "import aprioritree\n",
        "\n",
        "# TID Items\n",
        "itemSetList = [['A','B'],\n",
        "               ['A','B','E'],\n",
        "               ['A','B','D'],\n",
        "               ['B','E'],\n",
        "               ['A','B','D','E'],\n",
        "               ['C','D'],\n",
        "               ['B','C','D','F'],\n",
        "               ['A','D'],\n",
        "               ['A','B','D','F'],\n",
        "               ['A','B','C']]\n",
        "\n",
        "freqItemSet, rules = aprioritree.apriori(itemSetList, minSup=0.2, minConf=0.2)"
      ],
      "id": "5kTebBklaGwY"
    },
    {
      "cell_type": "code",
      "execution_count": null,
      "metadata": {
        "id": "AW6ih4H4aGwZ",
        "outputId": "b91cddac-69df-468e-e74f-9bcc143cd60e"
      },
      "outputs": [
        {
          "data": {
            "text/plain": [
              "{1: {frozenset({'C'}),\n",
              "  frozenset({'D'}),\n",
              "  frozenset({'A'}),\n",
              "  frozenset({'E'}),\n",
              "  frozenset({'B'}),\n",
              "  frozenset({'F'})},\n",
              " 2: {frozenset({'A', 'D'}),\n",
              "  frozenset({'B', 'C'}),\n",
              "  frozenset({'D', 'F'}),\n",
              "  frozenset({'C', 'D'}),\n",
              "  frozenset({'B', 'F'}),\n",
              "  frozenset({'A', 'B'}),\n",
              "  frozenset({'B', 'E'}),\n",
              "  frozenset({'B', 'D'}),\n",
              "  frozenset({'A', 'E'})},\n",
              " 3: {frozenset({'A', 'B', 'D'}),\n",
              "  frozenset({'B', 'D', 'F'}),\n",
              "  frozenset({'A', 'B', 'E'})}}"
            ]
          },
          "execution_count": 6,
          "metadata": {},
          "output_type": "execute_result"
        }
      ],
      "source": [
        "freqItemSet"
      ],
      "id": "AW6ih4H4aGwZ"
    },
    {
      "cell_type": "code",
      "execution_count": null,
      "metadata": {
        "id": "i8zWm8iPaGwZ",
        "outputId": "49d57e32-eae6-4a0d-80d6-f114f7490fbf"
      },
      "outputs": [
        {
          "data": {
            "text/plain": [
              "[[{'B'}, {'C'}, 0.25],\n",
              " [{'B'}, {'F'}, 0.25],\n",
              " [{'B'}, {'D', 'F'}, 0.25],\n",
              " [{'B'}, {'A', 'E'}, 0.25],\n",
              " [{'A'}, {'E'}, 0.2857142857142857],\n",
              " [{'A'}, {'B', 'E'}, 0.2857142857142857],\n",
              " [{'D'}, {'F'}, 0.3333333333333333],\n",
              " [{'D'}, {'C'}, 0.3333333333333333],\n",
              " [{'D'}, {'B', 'F'}, 0.3333333333333333],\n",
              " [{'A', 'B'}, {'E'}, 0.3333333333333333],\n",
              " [{'B'}, {'E'}, 0.375],\n",
              " [{'B'}, {'A', 'D'}, 0.375],\n",
              " [{'A'}, {'B', 'D'}, 0.42857142857142855],\n",
              " [{'B'}, {'D'}, 0.5],\n",
              " [{'D'}, {'A', 'B'}, 0.5],\n",
              " [{'A', 'B'}, {'D'}, 0.5],\n",
              " [{'B', 'D'}, {'F'}, 0.5],\n",
              " [{'A'}, {'D'}, 0.5714285714285714],\n",
              " [{'D'}, {'A'}, 0.6666666666666666],\n",
              " [{'C'}, {'B'}, 0.6666666666666666],\n",
              " [{'C'}, {'D'}, 0.6666666666666666],\n",
              " [{'D'}, {'B'}, 0.6666666666666666],\n",
              " [{'E'}, {'A'}, 0.6666666666666666],\n",
              " [{'E'}, {'A', 'B'}, 0.6666666666666666],\n",
              " [{'B', 'E'}, {'A'}, 0.6666666666666666],\n",
              " [{'B'}, {'A'}, 0.75],\n",
              " [{'A', 'D'}, {'B'}, 0.75],\n",
              " [{'B', 'D'}, {'A'}, 0.75],\n",
              " [{'A'}, {'B'}, 0.8571428571428571],\n",
              " [{'F'}, {'D'}, 1.0],\n",
              " [{'F'}, {'B'}, 1.0],\n",
              " [{'E'}, {'B'}, 1.0],\n",
              " [{'F'}, {'B', 'D'}, 1.0],\n",
              " [{'D', 'F'}, {'B'}, 1.0],\n",
              " [{'B', 'F'}, {'D'}, 1.0],\n",
              " [{'A', 'E'}, {'B'}, 1.0]]"
            ]
          },
          "execution_count": 7,
          "metadata": {},
          "output_type": "execute_result"
        }
      ],
      "source": [
        "rules"
      ],
      "id": "i8zWm8iPaGwZ"
    },
    {
      "cell_type": "code",
      "execution_count": null,
      "metadata": {
        "collapsed": true,
        "jupyter": {
          "outputs_hidden": true
        },
        "tags": [],
        "id": "zT3yE0jiaGwa",
        "outputId": "6ec01dcf-08ef-491b-d4f5-7f577f9c09ee"
      },
      "outputs": [
        {
          "data": {
            "text/plain": [
              "({1: {frozenset({'apple'}),\n",
              "   frozenset({'beer'}),\n",
              "   frozenset({'rice'}),\n",
              "   frozenset({'milk'}),\n",
              "   frozenset({'mango'}),\n",
              "   frozenset({'chicken'})},\n",
              "  2: {frozenset({'milk', 'rice'}),\n",
              "   frozenset({'beer', 'rice'}),\n",
              "   frozenset({'beer', 'milk'}),\n",
              "   frozenset({'apple', 'rice'}),\n",
              "   frozenset({'apple', 'beer'}),\n",
              "   frozenset({'beer', 'chicken'}),\n",
              "   frozenset({'chicken', 'rice'})},\n",
              "  3: {frozenset({'beer', 'milk', 'rice'}),\n",
              "   frozenset({'apple', 'beer', 'rice'}),\n",
              "   frozenset({'beer', 'chicken', 'rice'})}},\n",
              " [[{'beer'}, {'chicken'}, 0.3333333333333333],\n",
              "  [{'beer'}, {'milk', 'rice'}, 0.3333333333333333],\n",
              "  [{'beer'}, {'apple', 'rice'}, 0.3333333333333333],\n",
              "  [{'beer'}, {'chicken', 'rice'}, 0.3333333333333333],\n",
              "  [{'rice'}, {'milk'}, 0.5],\n",
              "  [{'milk'}, {'rice'}, 0.5],\n",
              "  [{'beer'}, {'milk'}, 0.5],\n",
              "  [{'apple'}, {'rice'}, 0.5],\n",
              "  [{'rice'}, {'apple'}, 0.5],\n",
              "  [{'beer'}, {'apple'}, 0.5],\n",
              "  [{'rice'}, {'chicken'}, 0.5],\n",
              "  [{'rice'}, {'beer', 'milk'}, 0.5],\n",
              "  [{'milk'}, {'beer', 'rice'}, 0.5],\n",
              "  [{'beer', 'rice'}, {'milk'}, 0.5],\n",
              "  [{'apple'}, {'beer', 'rice'}, 0.5],\n",
              "  [{'rice'}, {'apple', 'beer'}, 0.5],\n",
              "  [{'beer', 'rice'}, {'apple'}, 0.5],\n",
              "  [{'rice'}, {'beer', 'chicken'}, 0.5],\n",
              "  [{'beer', 'rice'}, {'chicken'}, 0.5],\n",
              "  [{'beer'}, {'rice'}, 0.6666666666666666],\n",
              "  [{'beer', 'milk'}, {'rice'}, 0.6666666666666666],\n",
              "  [{'apple', 'beer'}, {'rice'}, 0.6666666666666666],\n",
              "  [{'milk'}, {'beer'}, 0.75],\n",
              "  [{'apple'}, {'beer'}, 0.75],\n",
              "  [{'rice'}, {'beer'}, 1.0],\n",
              "  [{'chicken'}, {'beer'}, 1.0],\n",
              "  [{'chicken'}, {'rice'}, 1.0],\n",
              "  [{'milk', 'rice'}, {'beer'}, 1.0],\n",
              "  [{'apple', 'rice'}, {'beer'}, 1.0],\n",
              "  [{'chicken'}, {'beer', 'rice'}, 1.0],\n",
              "  [{'chicken', 'rice'}, {'beer'}, 1.0],\n",
              "  [{'beer', 'chicken'}, {'rice'}, 1.0]])"
            ]
          },
          "execution_count": 8,
          "metadata": {},
          "output_type": "execute_result"
        }
      ],
      "source": [
        "aprioriFromFile(fname='../dataset/tesco2.csv', minSup=0.2, minConf=0.2)"
      ],
      "id": "zT3yE0jiaGwa"
    },
    {
      "cell_type": "code",
      "execution_count": null,
      "metadata": {
        "collapsed": true,
        "jupyter": {
          "outputs_hidden": true
        },
        "tags": [],
        "id": "6fKQ3rBaaGwa",
        "outputId": "c0e19891-5f7b-4e0a-f2a2-1a9a3dea1569"
      },
      "outputs": [
        {
          "data": {
            "text/plain": [
              "({1: {frozenset({'Ghee'}),\n",
              "   frozenset({'Yougurt'}),\n",
              "   frozenset({'Tea Powder'}),\n",
              "   frozenset({'Cheese'}),\n",
              "   frozenset({'Butter'}),\n",
              "   frozenset({'Bread'}),\n",
              "   frozenset({'Coffee Powder'}),\n",
              "   frozenset({'Panner'}),\n",
              "   frozenset({'Sugar'}),\n",
              "   frozenset({'Sweet'}),\n",
              "   frozenset({'Lassi'}),\n",
              "   frozenset({'Milk'})},\n",
              "  2: {frozenset({'Coffee Powder', 'Lassi'}),\n",
              "   frozenset({'Ghee', 'Milk'}),\n",
              "   frozenset({'Lassi', 'Milk'}),\n",
              "   frozenset({'Sugar', 'Yougurt'}),\n",
              "   frozenset({'Cheese', 'Yougurt'}),\n",
              "   frozenset({'Bread', 'Coffee Powder'}),\n",
              "   frozenset({'Lassi', 'Sweet'}),\n",
              "   frozenset({'Coffee Powder', 'Milk'}),\n",
              "   frozenset({'Bread', 'Yougurt'}),\n",
              "   frozenset({'Cheese', 'Coffee Powder'}),\n",
              "   frozenset({'Coffee Powder', 'Ghee'}),\n",
              "   frozenset({'Bread', 'Sweet'}),\n",
              "   frozenset({'Milk', 'Sweet'}),\n",
              "   frozenset({'Bread', 'Milk'}),\n",
              "   frozenset({'Butter', 'Yougurt'}),\n",
              "   frozenset({'Butter', 'Sweet'}),\n",
              "   frozenset({'Ghee', 'Panner'}),\n",
              "   frozenset({'Butter', 'Ghee'}),\n",
              "   frozenset({'Bread', 'Cheese'}),\n",
              "   frozenset({'Coffee Powder', 'Yougurt'}),\n",
              "   frozenset({'Bread', 'Lassi'}),\n",
              "   frozenset({'Milk', 'Yougurt'}),\n",
              "   frozenset({'Milk', 'Sugar'}),\n",
              "   frozenset({'Ghee', 'Lassi'}),\n",
              "   frozenset({'Ghee', 'Sugar'}),\n",
              "   frozenset({'Bread', 'Panner'}),\n",
              "   frozenset({'Butter', 'Sugar'})}},\n",
              " [[{'Milk'}, {'Ghee'}, 0.4543973941368078],\n",
              "  [{'Milk'}, {'Sweet'}, 0.45457835685848713],\n",
              "  [{'Milk'}, {'Yougurt'}, 0.45475931958016647],\n",
              "  [{'Milk'}, {'Bread'}, 0.4554831704668838],\n",
              "  [{'Yougurt'}, {'Bread'}, 0.4555696892604034],\n",
              "  [{'Milk'}, {'Coffee Powder'}, 0.45566413318856314],\n",
              "  [{'Ghee'}, {'Milk'}, 0.4557168784029038],\n",
              "  [{'Ghee'}, {'Lassi'}, 0.4557168784029038],\n",
              "  [{'Coffee Powder'}, {'Lassi'}, 0.4559811218006898],\n",
              "  [{'Ghee'}, {'Sugar'}, 0.45662431941923776],\n",
              "  [{'Yougurt'}, {'Milk'}, 0.45666000363438125],\n",
              "  [{'Coffee Powder'}, {'Cheese'}, 0.456888727536758],\n",
              "  [{'Bread'}, {'Lassi'}, 0.45696571845368344],\n",
              "  [{'Coffee Powder'}, {'Milk'}, 0.45707024868397167],\n",
              "  [{'Bread'}, {'Yougurt'}, 0.45714806710430345],\n",
              "  [{'Ghee'}, {'Panner'}, 0.45789473684210524],\n",
              "  [{'Sweet'}, {'Milk'}, 0.4581433521794638],\n",
              "  [{'Coffee Powder'}, {'Bread'}, 0.4588854601561082],\n",
              "  [{'Sugar'}, {'Ghee'}, 0.4589565851878876],\n",
              "  [{'Bread'}, {'Milk'}, 0.4589715536105033],\n",
              "  [{'Ghee'}, {'Butter'}, 0.4591651542649728],\n",
              "  [{'Milk'}, {'Lassi'}, 0.45946435034382915],\n",
              "  [{'Yougurt'}, {'Sugar'}, 0.45956750863165546],\n",
              "  [{'Yougurt'}, {'Butter'}, 0.45956750863165546],\n",
              "  [{'Cheese'}, {'Coffee Powder'}, 0.4596420745069394],\n",
              "  [{'Yougurt'}, {'Cheese'}, 0.46011266581864435],\n",
              "  [{'Bread'}, {'Coffee Powder'}, 0.46097738876732314],\n",
              "  [{'Sugar'}, {'Yougurt'}, 0.461327982488143],\n",
              "  [{'Lassi'}, {'Bread'}, 0.46134020618556704],\n",
              "  [{'Bread'}, {'Cheese'}, 0.4613420860685631],\n",
              "  [{'Butter'}, {'Yougurt'}, 0.4614121510673235],\n",
              "  [{'Butter'}, {'Ghee'}, 0.46159459952563403],\n",
              "  [{'Cheese'}, {'Bread'}, 0.4620160701241782],\n",
              "  [{'Lassi'}, {'Ghee'}, 0.46226067746686306],\n",
              "  [{'Cheese'}, {'Yougurt'}, 0.46238130021913804],\n",
              "  [{'Lassi'}, {'Coffee Powder'}, 0.46244477172312226],\n",
              "  [{'Bread'}, {'Sweet'}, 0.462983223924143],\n",
              "  [{'Sweet'}, {'Bread'}, 0.4630676636877622],\n",
              "  [{'Panner'}, {'Ghee'}, 0.46344599559147687],\n",
              "  [{'Coffee Powder'}, {'Yougurt'}, 0.46378653113087676],\n",
              "  [{'Sweet'}, {'Butter'}, 0.4637971913186212],\n",
              "  [{'Milk'}, {'Sugar'}, 0.4638074556641332],\n",
              "  [{'Butter'}, {'Sweet'}, 0.46396642948367084],\n",
              "  [{'Yougurt'}, {'Coffee Powder'}, 0.46429220425222606],\n",
              "  [{'Bread'}, {'Panner'}, 0.4649890590809628],\n",
              "  [{'Lassi'}, {'Milk'}, 0.46741531664212077],\n",
              "  [{'Sugar'}, {'Milk'}, 0.4675300985041955],\n",
              "  [{'Ghee'}, {'Coffee Powder'}, 0.46787658802177856],\n",
              "  [{'Coffee Powder'}, {'Ghee'}, 0.4679615175167907],\n",
              "  [{'Panner'}, {'Bread'}, 0.46840558412931665],\n",
              "  [{'Sugar'}, {'Butter'}, 0.4689894199197373],\n",
              "  [{'Butter'}, {'Sugar'}, 0.4690749863163656],\n",
              "  [{'Sweet'}, {'Lassi'}, 0.4698157942732081],\n",
              "  [{'Lassi'}, {'Sweet'}, 0.4742268041237113]])"
            ]
          },
          "execution_count": 12,
          "metadata": {},
          "output_type": "execute_result"
        }
      ],
      "source": [
        "aprioriFromFile(fname='../dataset/kaggle.csv', minSup=0.2, minConf=0.2)"
      ],
      "id": "6fKQ3rBaaGwa"
    }
  ],
  "metadata": {
    "kernelspec": {
      "display_name": "Python 3",
      "language": "python",
      "name": "python3"
    },
    "language_info": {
      "codemirror_mode": {
        "name": "ipython",
        "version": 3
      },
      "file_extension": ".py",
      "mimetype": "text/x-python",
      "name": "python",
      "nbconvert_exporter": "python",
      "pygments_lexer": "ipython3",
      "version": "3.6.9"
    },
    "toc-showcode": true,
    "toc-showtags": false,
    "colab": {
      "provenance": [],
      "include_colab_link": true
    }
  },
  "nbformat": 4,
  "nbformat_minor": 5
}