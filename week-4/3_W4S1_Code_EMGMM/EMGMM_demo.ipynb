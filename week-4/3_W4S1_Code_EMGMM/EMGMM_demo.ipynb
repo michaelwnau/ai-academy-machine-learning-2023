{
 "cells": [
  {
   "cell_type": "markdown",
   "metadata": {},
   "source": [
    "## Week 4 - Session 1 : EM & GMM"
   ]
  },
  {
   "cell_type": "code",
   "execution_count": null,
   "metadata": {},
   "outputs": [],
   "source": [
    "# This code is released under the MIT license.\n",
    "%matplotlib inline\n",
    "import numpy as np\n",
    "import matplotlib.pyplot as plt\n",
    "import seaborn as sns; sns.set(style='whitegrid')\n",
    "from matplotlib.patches import Ellipse\n",
    "from sklearn.mixture import GaussianMixture\n",
    "\n",
    "def draw_ellipse(position, covariance, ax=None, **kwargs):\n",
    "    \"\"\"Draw an ellipse with a given position and covariance\"\"\"\n",
    "    ax = ax or plt.gca()\n",
    "    \n",
    "    # Convert covariance to principal axes\n",
    "    if covariance.shape == (2, 2):\n",
    "        U, s, Vt = np.linalg.svd(covariance)\n",
    "        angle = np.degrees(np.arctan2(U[1, 0], U[0, 0]))\n",
    "        width, height = 2 * np.sqrt(s)\n",
    "    else:\n",
    "        angle = 0\n",
    "        width, height = 2 * np.sqrt(covariance)\n",
    "    \n",
    "    # Draw the Ellipse\n",
    "    for nsig in range(1, 4):\n",
    "        ax.add_patch(Ellipse(position, nsig * width, nsig * height,\n",
    "                             angle, **kwargs))\n",
    "        \n",
    "def plot_gmm(gmm, X, label=True, ax=None):\n",
    "    \"\"\" Draw a scatter plot for X associated with gmm result\"\"\"\n",
    "    # gmm: initialized GMM model\n",
    "    # X: loaded dataset\n",
    "    \n",
    "    ax = ax or plt.gca()\n",
    "    labels = gmm.fit(X).predict(X)\n",
    "    if label:\n",
    "        ax.scatter(X[:, 0], X[:, 1], c=labels, s=15, alpha=0.5, cmap='viridis', zorder=2)\n",
    "    else:\n",
    "        ax.scatter(X[:, 0], X[:, 1], s=15, alpha=0.5, zorder=2)\n",
    "    ax.axis('equal')\n",
    "    \n",
    "    w_factor = 0.2 / gmm.weights_.max()\n",
    "    for pos, covar, w in zip(gmm.means_, gmm.covariances_, gmm.weights_):\n",
    "        draw_ellipse(pos, covar, alpha=w * w_factor)\n",
    "        \n",
    "def plot_scatter(X):\n",
    "    \"\"\" Draw a scatter plot for X \"\"\"\n",
    "    # X: loaded dataset\n",
    "    \n",
    "    plt.scatter(X[:, 0], X[:, 1], s=15, alpha=0.5, cmap='viridis')"
   ]
  },
  {
   "cell_type": "markdown",
   "metadata": {},
   "source": [
    "### Question 1 >>\n",
    "* Load and plot the data: \"EMGMM_dataset.npy\"\n",
    "* What do you observe?"
   ]
  },
  {
   "cell_type": "code",
   "execution_count": null,
   "metadata": {},
   "outputs": [],
   "source": [
    "data = np.load(\"EMGMM_dataset.npy\")\n",
    "print(data.shape)\n",
    "plot_scatter(data)"
   ]
  },
  {
   "cell_type": "markdown",
   "metadata": {},
   "source": [
    "### Question 2 >>\n",
    "* Change the parameters, compare the results\n",
    "* Please refer to the parameters of GMM in this link: \n",
    "https://scikit-learn.org/stable/modules/generated/sklearn.mixture.GaussianMixture.html"
   ]
  },
  {
   "cell_type": "code",
   "execution_count": null,
   "metadata": {},
   "outputs": [],
   "source": [
    "gmm = GaussianMixture(n_components=3,\n",
    "                      covariance_type='full',\n",
    "                      random_state=42,\n",
    "                      init_params='random',\n",
    "                      verbose=0)\n",
    "plot_gmm(gmm, data)"
   ]
  },
  {
   "cell_type": "markdown",
   "metadata": {},
   "source": [
    "### Question 3 >>\n",
    "* Plot the GMM result with different number of iterations.\n",
    "* Cahnge the iteration: 7 -> 15 -> 25"
   ]
  },
  {
   "cell_type": "code",
   "execution_count": null,
   "metadata": {},
   "outputs": [],
   "source": [
    "gmm = GaussianMixture(n_components=3,\n",
    "                      covariance_type='full',\n",
    "                      random_state=42,\n",
    "                      init_params='random',\n",
    "                      verbose=0,\n",
    "                      max_iter=7)\n",
    "plot_gmm(gmm, data)"
   ]
  },
  {
   "cell_type": "markdown",
   "metadata": {},
   "source": [
    "### Question 4: Explore the MIMIC-III data\n",
    "* Apply the methods to the imputed MIMIC-III data set with any two numerical features.\n",
    "* What happens if the data for each cluster do not follow a Gaussian distribution?\n",
    "* What happens if the data of two clusters are heavily overlapped?"
   ]
  },
  {
   "cell_type": "code",
   "execution_count": null,
   "metadata": {},
   "outputs": [],
   "source": [
    "import pandas as pd\n",
    "shock = pd.read_csv(\"../s2_Code_Clustering/mimic_shock.csv\", header=0)\n",
    "nonshock = pd.read_csv(\"../s2_Code_Clustering/mimic_nonshock.csv\", header=0)\n",
    "feat = ['SystolicBP','HeartRate']\n",
    "\n",
    "shockVids = shock.VisitIdentifier.unique().tolist()[:100]\n",
    "nonshockVids = nonshock.VisitIdentifier.unique().tolist()[:100]\n",
    "\n",
    "shockSelected = shock.loc[shock.VisitIdentifier.isin(shockVids), feat]\n",
    "nonshockSelected = nonshock.loc[nonshock.VisitIdentifier.isin(nonshockVids),feat]\n",
    "\n",
    "shock_data = shockSelected.values\n",
    "nonshock_data = nonshockSelected.values\n",
    "mimic_data = np.concatenate([shock_data, nonshock_data])\n",
    "\n",
    "plot_scatter(mimic_data)"
   ]
  },
  {
   "cell_type": "code",
   "execution_count": null,
   "metadata": {},
   "outputs": [],
   "source": [
    "plot_scatter(shock_data)"
   ]
  },
  {
   "cell_type": "code",
   "execution_count": null,
   "metadata": {},
   "outputs": [],
   "source": [
    "plot_scatter(nonshock_data)"
   ]
  },
  {
   "cell_type": "code",
   "execution_count": null,
   "metadata": {},
   "outputs": [],
   "source": [
    "# GMM\n",
    "gmm = GaussianMixture(n_components=2,\n",
    "                      n_init = 1,  # default number of init = 1\n",
    "                      covariance_type='full',\n",
    "                      random_state=2,\n",
    "                      init_params='random',\n",
    "                      verbose=0)\n",
    "\n",
    "print(\"* GMM result\")\n",
    "plot_gmm(gmm, mimic_data)"
   ]
  },
  {
   "cell_type": "markdown",
   "metadata": {},
   "source": [
    "### Question 5: You may play with your own data or another dataset you generate.\n",
    "* You may artificially gerenate data as follows:"
   ]
  },
  {
   "cell_type": "code",
   "execution_count": null,
   "metadata": {},
   "outputs": [],
   "source": [
    "from sklearn.datasets import make_blobs   # scikit-learn version = 1.0.2  \n",
    "# if you fail to import the above, try this older version. \n",
    "#from sklearn.datasets.samples_generator import make_blobs \n",
    "\n",
    "X, y_true = make_blobs(n_samples=400, centers=5,\n",
    "                       cluster_std=0.9, random_state=0)\n",
    "X = X[:, ::-1] # flip axes for better plotting\n",
    "rng = np.random.RandomState(7)\n",
    "X1 = np.dot(X[:200], rng.randn(2, 2))  # make the first half of data skewed with random vectors\n",
    "X2 = np.dot(X[200:], rng.randn(2, 2)) # make the second half of data skewed with random vectors\n",
    "new_data = np.concatenate([X1, X2])\n",
    "plot_scatter(new_data)"
   ]
  },
  {
   "cell_type": "code",
   "execution_count": null,
   "metadata": {},
   "outputs": [],
   "source": [
    "# GMM Clustering\n",
    "gmm = GaussianMixture(n_components=4,\n",
    "                      n_init = 10,  # default number of init = 1\n",
    "                      covariance_type='full',\n",
    "                      random_state=2,\n",
    "                      init_params='random',\n",
    "                      verbose=0)\n",
    "\n",
    "print(\"* GMM result\")\n",
    "plot_gmm(gmm, new_data)"
   ]
  }
 ],
 "metadata": {
  "kernelspec": {
   "display_name": "Python 3 (ipykernel)",
   "language": "python",
   "name": "python3"
  },
  "language_info": {
   "codemirror_mode": {
    "name": "ipython",
    "version": 3
   },
   "file_extension": ".py",
   "mimetype": "text/x-python",
   "name": "python",
   "nbconvert_exporter": "python",
   "pygments_lexer": "ipython3",
   "version": "3.9.7"
  }
 },
 "nbformat": 4,
 "nbformat_minor": 2
}
